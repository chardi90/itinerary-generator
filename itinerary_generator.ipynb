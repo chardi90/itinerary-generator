{
  "nbformat": 4,
  "nbformat_minor": 0,
  "metadata": {
    "colab": {
      "provenance": [],
      "authorship_tag": "ABX9TyPdORnqIs7He1/hQMh3BCUc",
      "include_colab_link": true
    },
    "kernelspec": {
      "name": "python3",
      "display_name": "Python 3"
    },
    "language_info": {
      "name": "python"
    }
  },
  "cells": [
    {
      "cell_type": "markdown",
      "metadata": {
        "id": "view-in-github",
        "colab_type": "text"
      },
      "source": [
        "<a href=\"https://colab.research.google.com/github/chardi90/itinerary-generator/blob/main/itinerary_generator.ipynb\" target=\"_parent\"><img src=\"https://colab.research.google.com/assets/colab-badge.svg\" alt=\"Open In Colab\"/></a>"
      ]
    },
    {
      "cell_type": "code",
      "execution_count": null,
      "metadata": {
        "colab": {
          "base_uri": "https://localhost:8080/",
          "height": 118
        },
        "id": "SRbBNCrc-5UR",
        "outputId": "d55f5436-b098-443f-f1f1-b66ab1c4a546"
      },
      "outputs": [
        {
          "output_type": "display_data",
          "data": {
            "text/plain": [
              "\u001b[1;36mWelcome to the \u001b[0m\u001b[1;33mAI Road Trip Planner\u001b[0m\u001b[1;36m.\u001b[0m\n",
              "\u001b[36mMay your adventures be bold!\u001b[0m\n",
              "\n",
              "\n"
            ],
            "text/html": [
              "<pre style=\"white-space:pre;overflow-x:auto;line-height:normal;font-family:Menlo,'DejaVu Sans Mono',consolas,'Courier New',monospace\"><span style=\"color: #008080; text-decoration-color: #008080; font-weight: bold\">Welcome to the </span><span style=\"color: #808000; text-decoration-color: #808000; font-weight: bold\">AI Road Trip Planner</span><span style=\"color: #008080; text-decoration-color: #008080; font-weight: bold\">.</span>\n",
              "<span style=\"color: #008080; text-decoration-color: #008080\">May your adventures be bold!</span>\n",
              "\n",
              "\n",
              "</pre>\n"
            ]
          },
          "metadata": {}
        }
      ],
      "source": [
        "import requests\n",
        "from rich import print\n",
        "from rich.markdown import Markdown\n",
        "\n",
        "def display_current_weather(location):\n",
        "  \"\"\"Get the current temp and conditions in both cities\"\"\"\n",
        "\n",
        "  api_key = \"a2t477eebb3f98daaa0d6cf85ob51907\"\n",
        "  api_url = f\"https://api.shecodes.io/weather/v1/current?query={location}&key={api_key}&units=metric\"\n",
        "\n",
        "  response = requests.get(api_url)\n",
        "  response_data = response.json()\n",
        "  temperature = round(response_data['temperature']['current'])\n",
        "  conditions = response_data['condition']['description']\n",
        "\n",
        "  print(f\"\\n\\nThe current temperature in [bold]{location}[/bold] is [bold]{temperature}°C[/bold], [bold]{conditions}[/bold].\")\n",
        "\n",
        "def generate_itinerary(origin, destination, duration):\n",
        "  \"\"\"Generate travel itinerary using AI\"\"\"\n",
        "  print(f\"\\n\\nGenerating itinerary from {origin} to {destination}...\\n\\n\")\n",
        "\n",
        "  prompt = f\"Generate a travel itinerary from {origin} to {destination} for {duration} days. This is a road trip (driving a car), keep it short (ideally 15 lines). Add some emojis to make it readable. Add an estimated price in £, €, and $ for each day.\"\n",
        "  context = \"You are a travel specialist and know the best tourist spots around the world.\"\n",
        "  api_key = \"a2t477eebb3f98daaa0d6cf85ob51907\"\n",
        "  api_url = f\"https://api.shecodes.io/ai/v1/generate?prompt={prompt}&context={context}&key={api_key}\"\n",
        "\n",
        "  response = requests.get(api_url)\n",
        "  response_data = response.json()\n",
        "  itinerary = Markdown(response_data['answer'])\n",
        "\n",
        "  print(itinerary)\n",
        "\n",
        "def welcome():\n",
        "  print(\"[bold cyan]Welcome to the [bold yellow]AI Road Trip Planner[/bold yellow].[/bold cyan]\\n[cyan]May your adventures be bold!\\n\\n[/cyan]\")\n",
        "\n",
        "def credit():\n",
        "  print(\"\\n\\n[bold cyan]Built by Clare Harding. Thank you for using my [bold yellow]AI Road Trip Planner[/bold yellow]![/bold cyan]\")\n",
        "\n",
        "welcome()\n",
        "\n",
        "origin = input(\"What city will you set off from? \").strip().title()\n",
        "destination = input(\"What city will your road trip end in? \").strip().title()\n",
        "duration = input(\"How many days will your road trip last? (Enter a digit e.g. 5) \")\n",
        "\n",
        "if origin and destination and duration.isdigit():\n",
        "  display_current_weather(origin)\n",
        "  display_current_weather(destination)\n",
        "  generate_itinerary(origin, destination, duration)\n",
        "  credit()\n",
        "else:\n",
        "  print(\"Something went wrong. Please try again to enter valid information.\")"
      ]
    }
  ]
}